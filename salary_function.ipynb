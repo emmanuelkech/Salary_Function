{
 "cells": [
  {
   "cell_type": "code",
   "execution_count": 2,
   "id": "8dd0c11c-f507-4e9c-866a-79973d274768",
   "metadata": {},
   "outputs": [],
   "source": [
    "import pandas as pd # This gives the ability to read the .csv file\n",
    "import zipfile # This gives the ability to compress the file to be exported into a ZIP file\n",
    "import os # This allows us perform tasks related to file and directory manipulation.\n",
    "\n",
    "# Load the salary data from a CSV file\n",
    "# The \"low_memory = False\" statement resolves the 'DtypeWarning' error encountered while reading the .csv file\n",
    "salary_data = pd.read_csv('Total.csv', low_memory = False)\n",
    "\n",
    "# Create a function that takes an employee's name as input and returns their details\n",
    "def get_employee_details(employee_name):\n",
    "    try:\n",
    "        # Filter the data for the employee\n",
    "        employee_data = salary_data[salary_data['EmployeeName'] == employee_name]\n",
    "        \n",
    "        # Check if employee exists\n",
    "        if employee_data.empty:\n",
    "            return f\"Employee {employee_name} was not found.\"\n",
    "        \n",
    "        return employee_data\n",
    "    except Exception as e:\n",
    "        return f\"An error occurred: {str(e)}\"\n",
    "\n",
    "# Remove duplicates to prevent any errors while converting dataframe to dictionary\n",
    "salary_data = salary_data.drop_duplicates(subset=['EmployeeName'])\n",
    "\n",
    "# Convert the DataFrame to a dictionary with names as keys\n",
    "salary_dict = salary_data.set_index('EmployeeName').T.to_dict()\n",
    "\n",
    "# Export Employee Details\n",
    "def export_employee_details(employee_name):\n",
    "    try:\n",
    "        # Get employee details\n",
    "        employee_details = get_employee_details(employee_name)\n",
    "        \n",
    "        # If employee is not found, exit the function\n",
    "        if isinstance(employee_details, str):\n",
    "            print(employee_details)\n",
    "            return\n",
    "        \n",
    "        # Define the file path\n",
    "        file_name = f\"{employee_name.replace(' ', '_')}_details.csv\"\n",
    "        \n",
    "        # Save employee details to a CSV file\n",
    "        employee_details.to_csv(file_name, index=False)\n",
    "        \n",
    "        # Create a zip file and add the CSV file to it\n",
    "        with zipfile.ZipFile('Employee_Profile.zip', 'w') as zipf:\n",
    "            zipf.write(file_name)\n",
    "        \n",
    "        # Remove the CSV file after zipping\n",
    "        os.remove(file_name)\n",
    "        \n",
    "        print(f\"\\nEmployee details for {employee_name} saved to 'Employee_Profile.zip'.\")\n",
    "        \n",
    "    except Exception as e:\n",
    "        print(f\"An error occurred: {str(e)}\")"
   ]
  },
  {
   "cell_type": "code",
   "execution_count": null,
   "id": "e2ed32c3-a0d4-414a-bee2-e5171823a804",
   "metadata": {},
   "outputs": [],
   "source": []
  }
 ],
 "metadata": {
  "kernelspec": {
   "display_name": "Python 3 (ipykernel)",
   "language": "python",
   "name": "python3"
  },
  "language_info": {
   "codemirror_mode": {
    "name": "ipython",
    "version": 3
   },
   "file_extension": ".py",
   "mimetype": "text/x-python",
   "name": "python",
   "nbconvert_exporter": "python",
   "pygments_lexer": "ipython3",
   "version": "3.12.4"
  }
 },
 "nbformat": 4,
 "nbformat_minor": 5
}
